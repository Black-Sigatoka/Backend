{
  "cells": [
    {
      "cell_type": "markdown",
      "metadata": {
        "nteract": {
          "transient": {
            "deleting": false
          }
        }
      },
      "source": [
        "Connect to the workspace"
      ]
    },
    {
      "cell_type": "code",
      "execution_count": 1,
      "metadata": {
        "gather": {
          "logged": 1717581708697
        }
      },
      "outputs": [],
      "source": [
        "#import required libraries\n",
        "from azure.ai.ml import MLClient\n",
        "from azure.identity import DefaultAzureCredential\n",
        "\n",
        "#Enter details of your Azure Machine Learning workspace\n",
        "subscription_id = \"\"\n",
        "resource_group = \"\"\n",
        "workspace = \"\"\n",
        "\n",
        "#connect to the workspace\n",
        "ml_client = MLClient(DefaultAzureCredential(), subscription_id, resource_group, workspace)"
      ]
    },
    {
      "cell_type": "markdown",
      "metadata": {
        "nteract": {
          "transient": {
            "deleting": false
          }
        }
      },
      "source": [
        "Creating compute cluster"
      ]
    },
    {
      "cell_type": "code",
      "execution_count": 4,
      "metadata": {
        "gather": {
          "logged": 1717580514377
        },
        "jupyter": {
          "outputs_hidden": false,
          "source_hidden": false
        },
        "nteract": {
          "transient": {
            "deleting": false
          }
        }
      },
      "outputs": [],
      "source": [
        "from azure.ai.ml.entities import AmlCompute\n",
        "\n",
        "cluster = AmlCompute(\n",
        "    name=\"cluster-with-1-k80-gpu\",\n",
        "    type=\"amlcompute\",\n",
        "    size=\"Standard_NC6\",\n",
        "    location=\"westeurope\",\n",
        "    min_instances=0,l\n",
        "    max_instances=2,\n",
        "    idle_time_before_scale_down=120,\n",
        ")\n",
        "ml_client.begin_create_or_update(cluster).result()"
      ]
    },
    {
      "cell_type": "code",
      "execution_count": 5,
      "metadata": {
        "gather": {
          "logged": 1717580517978
        },
        "jupyter": {
          "outputs_hidden": false,
          "source_hidden": false
        },
        "nteract": {
          "transient": {
            "deleting": false
          }
        }
      },
      "outputs": [],
      "source": [
        "#import requests library\n",
        "import requests\n",
        "\n",
        "#define the url of the weights file\n",
        "url = \"https://github.com/ultralytics/assets/releases/download/v0.0.0/yolov8x-seg.pt\"\n",
        "\n",
        "#define the path to save the weights file in your workspace folder\n",
        "path = \"yolov8x-seg.pt\"\n",
        "\n",
        "#download the weights file using requests\n",
        "response = requests.get(url, stream=True)\n",
        "\n",
        "#check if the response is successful\n",
        "if response.status_code == 200:\n",
        "    #open the file in write mode\n",
        "    with open(path, \"wb\") as f:\n",
        "        #write the response content to the file\n",
        "        f.write(response.content)\n",
        "    #print a success message\n",
        "    print(f\"Downloaded {url} and saved as {path}\")\n",
        "else:\n",
        "    #print an error message\n",
        "    print(f\"Failed to download {url}\")\n"
      ]
    },
    {
      "cell_type": "markdown",
      "metadata": {
        "nteract": {
          "transient": {
            "deleting": false
          }
        }
      },
      "source": [
        "Create a compute resource for training"
      ]
    },
    {
      "cell_type": "code",
      "execution_count": 6,
      "metadata": {
        "gather": {
          "logged": 1717580520998
        },
        "jupyter": {
          "outputs_hidden": false,
          "source_hidden": false
        },
        "nteract": {
          "transient": {
            "deleting": false
          }
        }
      },
      "outputs": [],
      "source": [
        "from azure.ai.ml.entities import AmlCompute\n",
        "\n",
        "# specify aml compute name.\n",
        "cpu_compute_target = \"cpu-cluster-train\"\n",
        "\n",
        "try:\n",
        "    ml_client.compute.get(cpu_compute_target)\n",
        "    print(\"Found existing compute target.\")\n",
        "except Exception:\n",
        "    print(\"Creating a new cpu compute target...\")\n",
        "    compute = AmlCompute(\n",
        "        name=cpu_compute_target, size=\"Standard_D13_v2\", min_instances=0, max_instances=4\n",
        "    )\n",
        "    ml_client.compute.begin_create_or_update(compute).result()\n"
      ]
    },
    {
      "cell_type": "markdown",
      "metadata": {
        "nteract": {
          "transient": {
            "deleting": false
          }
        }
      },
      "source": [
        "Create an AzureML environment"
      ]
    },
    {
      "cell_type": "code",
      "execution_count": 7,
      "metadata": {
        "gather": {
          "logged": 1717580524676
        },
        "jupyter": {
          "outputs_hidden": false,
          "source_hidden": false
        },
        "nteract": {
          "transient": {
            "deleting": false
          }
        }
      },
      "outputs": [],
      "source": [
        "\n",
        "%%bash\n",
        "mkdir ext-env\n",
        "\n",
        "echo \"\"\"\n",
        "FROM pytorch/pytorch:2.0.0-cuda11.7-cudnn8-runtime\n",
        "\n",
        "# Downloads to user config dir\n",
        "ADD https://ultralytics.com/assets/Arial.ttf https://ultralytics.com/assets/Arial.Unicode.ttf /root/.config/Ultralytics/\n",
        "\n",
        "# Install linux packages\n",
        "ENV DEBIAN_FRONTEND noninteractive\n",
        "RUN apt update\n",
        "RUN TZ=Etc/UTC apt install -y tzdata\n",
        "RUN apt install --no-install-recommends -y gcc git zip curl htop libgl1-mesa-glx libglib2.0-0 libpython3-dev gnupg g++\n",
        "\n",
        "# Security updates\n",
        "# https://security.snyk.io/vuln/SNYK-UBUNTU1804-OPENSSL-3314796\n",
        "RUN apt upgrade --no-install-recommends -y openssl tar\n",
        "\n",
        "RUN pip install ultralytics==8.0.133\n",
        "RUN pip install azureml-mlflow==1.52.0\n",
        "RUN pip install mlflow==2.4.2\n",
        "RUN pip install azureml-core==1.52.0\n",
        "RUN pip install azureml-dataprep==4.12.1\n",
        "RUN pip install pip install fuse-python\n",
        "\"\"\" > ext-env/Dockerfile"
      ]
    },
    {
      "cell_type": "code",
      "execution_count": 8,
      "metadata": {
        "gather": {
          "logged": 1717580528525
        },
        "jupyter": {
          "outputs_hidden": false,
          "source_hidden": false
        },
        "nteract": {
          "transient": {
            "deleting": false
          }
        }
      },
      "outputs": [],
      "source": [
        "from azure.ai.ml.entities import Environment, BuildContext\n",
        "\n",
        "env_docker_context = Environment(\n",
        "    build=BuildContext(path=\"ext-env\"),\n",
        "    name=\"ext-env\",\n",
        "    description=\"Environment created from a Docker context.\",\n",
        ")\n",
        "ml_client.environments.create_or_update(env_docker_context)"
      ]
    },
    {
      "cell_type": "markdown",
      "metadata": {
        "nteract": {
          "transient": {
            "deleting": false
          }
        }
      },
      "source": [
        "Run the training\n",
        "\n",
        "create an AzureML job that executes the yolov8 training against the compute cluster we created earlier"
      ]
    },
    {
      "cell_type": "code",
      "execution_count": 2,
      "metadata": {
        "gather": {
          "logged": 1717581724609
        },
        "jupyter": {
          "outputs_hidden": false,
          "source_hidden": false
        },
        "nteract": {
          "transient": {
            "deleting": false
          }
        }
      },
      "outputs": [
        {
          "name": "stderr",
          "output_type": "stream",
          "text": [
            "Class AutoDeleteSettingSchema: This is an experimental class, and may change at any time. Please see https://aka.ms/azuremlexperimental for more information.\n",
            "Class AutoDeleteConditionSchema: This is an experimental class, and may change at any time. Please see https://aka.ms/azuremlexperimental for more information.\n",
            "Class BaseAutoDeleteSettingSchema: This is an experimental class, and may change at any time. Please see https://aka.ms/azuremlexperimental for more information.\n",
            "Class IntellectualPropertySchema: This is an experimental class, and may change at any time. Please see https://aka.ms/azuremlexperimental for more information.\n",
            "Class ProtectionLevelSchema: This is an experimental class, and may change at any time. Please see https://aka.ms/azuremlexperimental for more information.\n",
            "Class BaseIntellectualPropertySchema: This is an experimental class, and may change at any time. Please see https://aka.ms/azuremlexperimental for more information.\n"
          ]
        },
        {
          "data": {
            "text/html": [
              "<table style=\"width:100%\"><tr><th>Experiment</th><th>Name</th><th>Type</th><th>Status</th><th>Details Page</th></tr><tr><td>sigatoka</td><td>blue_kite_kdl776pn34</td><td>command</td><td>Starting</td><td><a href=\"https://ml.azure.com/runs/blue_kite_kdl776pn34?wsid=/subscriptions/573c33d5-dbc4-402b-b607-c181f7ccd3f0/resourcegroups/WimeaRG/workspaces/safari-ws&amp;tid=57b80554-e78b-41ae-b593-003d7ba29cac\" target=\"_blank\" rel=\"noopener\">Link to Azure Machine Learning studio</a></td></tr></table>"
            ],
            "text/plain": [
              "Command({'parameters': {}, 'init': False, 'name': 'blue_kite_kdl776pn34', 'type': 'command', 'status': 'Starting', 'log_files': None, 'description': None, 'tags': {}, 'properties': {'_azureml.ComputeTargetType': 'amlctrain', '_azureml.ClusterName': 'MangoDamage-dl-gpu', 'ContentSnapshotId': 'f5bc7418-91f5-4dbf-b7cf-c1fe3177a6c0'}, 'print_as_yaml': True, 'id': '/subscriptions/573c33d5-dbc4-402b-b607-c181f7ccd3f0/resourceGroups/WimeaRG/providers/Microsoft.MachineLearningServices/workspaces/safari-ws/jobs/blue_kite_kdl776pn34', 'Resource__source_path': None, 'base_path': '/mnt/batch/tasks/shared/LS_root/mounts/clusters/operations1-cpu/code/Users/operations', 'creation_context': <azure.ai.ml.entities._system_data.SystemData object at 0x7fe695ed3be0>, 'serialize': <msrest.serialization.Serializer object at 0x7fe695d0a800>, 'allowed_keys': {}, 'key_restriction': False, 'logger': <Logger attr_dict (WARNING)>, 'display_name': 'sigatoka', 'experiment_name': 'sigatoka', 'compute': 'MangoDamage-dl-gpu', 'services': {'Tracking': {'endpoint': 'azureml://westus.api.azureml.ms/mlflow/v1.0/subscriptions/573c33d5-dbc4-402b-b607-c181f7ccd3f0/resourceGroups/WimeaRG/providers/Microsoft.MachineLearningServices/workspaces/safari-ws?', 'type': 'Tracking'}, 'Studio': {'endpoint': 'https://ml.azure.com/runs/blue_kite_kdl776pn34?wsid=/subscriptions/573c33d5-dbc4-402b-b607-c181f7ccd3f0/resourcegroups/WimeaRG/workspaces/safari-ws&tid=57b80554-e78b-41ae-b593-003d7ba29cac', 'type': 'Studio'}}, 'comment': None, 'job_inputs': {'data': {'type': 'uri_folder', 'path': 'sigatoka-damage-ds:1', 'mode': 'ro_mount'}, 'model_to_train': {'type': 'custom_model', 'path': 'azureml://datastores/workspaceblobstore/paths/LocalUpload/9f96183df3466e3c020ae95560fb665e/yolov8x-seg.pt', 'mode': 'ro_mount'}}, 'job_outputs': {'default': {'type': 'uri_folder', 'path': 'azureml://datastores/workspaceartifactstore/ExperimentRun/dcid.blue_kite_kdl776pn34', 'mode': 'rw_mount'}}, 'inputs': {'data': <azure.ai.ml.entities._job.pipeline._io.base.NodeInput object at 0x7fe695d0beb0>, 'model_to_train': <azure.ai.ml.entities._job.pipeline._io.base.NodeInput object at 0x7fe695d0baf0>}, 'outputs': {'default': <azure.ai.ml.entities._job.pipeline._io.base.NodeOutput object at 0x7fe695d0a560>}, 'component': CommandComponent({'intellectual_property': None, 'auto_increment_version': True, 'source': 'REMOTE.WORKSPACE.JOB', 'is_anonymous': False, 'auto_delete_setting': None, 'name': 'blue_kite_kdl776pn34', 'description': None, 'tags': {}, 'properties': {}, 'print_as_yaml': True, 'id': None, 'Resource__source_path': None, 'base_path': PosixPath('.'), 'creation_context': <azure.ai.ml.entities._system_data.SystemData object at 0x7fe695ed3be0>, 'serialize': <msrest.serialization.Serializer object at 0x7fe695d0bee0>, 'command': '\\n    echo \"The data asset path is ${{ inputs.data }}\" &&\\n    # Update custom.yaml to contain the correct path\\n    sed -i \"s|path:.*$|path: ${{ inputs.data }}|\" custom.yaml &&\\n    # Now custom.yaml contains the correct path so we can run the training\\n    yolo segment train data=custom.yaml model=${{ inputs.model_to_train }} epochs=300 imgsz=640 batch=16 project=Mask name=experiment\\n    ', 'code': '/subscriptions/573c33d5-dbc4-402b-b607-c181f7ccd3f0/resourceGroups/WimeaRG/providers/Microsoft.MachineLearningServices/workspaces/safari-ws/codes/26c35dd6-cd42-4d4e-942d-d5a7a5590037/versions/1', 'environment_variables': {}, 'environment': '/subscriptions/573c33d5-dbc4-402b-b607-c181f7ccd3f0/resourceGroups/WimeaRG/providers/Microsoft.MachineLearningServices/workspaces/safari-ws/environments/Yolov8-environment/versions/1', 'distribution': None, 'resources': None, 'queue_settings': None, 'version': None, 'latest_version': None, 'schema': None, 'type': 'command', 'display_name': 'sigatoka', 'is_deterministic': True, 'inputs': {'data': {'type': 'uri_folder', 'path': '/subscriptions/573c33d5-dbc4-402b-b607-c181f7ccd3f0/resourceGroups/WimeaRG/providers/Microsoft.MachineLearningServices/workspaces/safari-ws/data/sigatoka-damage-ds/versions/1', 'mode': 'ro_mount'}, 'model_to_train': {'type': 'custom_model', 'path': 'azureml://datastores/workspaceblobstore/paths/LocalUpload/9f96183df3466e3c020ae95560fb665e/yolov8x-seg.pt', 'mode': 'ro_mount'}}, 'outputs': {'default': {'type': 'uri_folder', 'path': 'azureml://datastores/workspaceartifactstore/ExperimentRun/dcid.blue_kite_kdl776pn34', 'mode': 'rw_mount'}}, 'yaml_str': None, 'other_parameter': {'status': 'Starting', 'parameters': {}}, 'additional_includes': [], 'CommandComponent__additional_includes_obj': None}), 'referenced_control_flow_node_instance_id': None, 'kwargs': {'services': {'Tracking': {'endpoint': 'azureml://westus.api.azureml.ms/mlflow/v1.0/subscriptions/573c33d5-dbc4-402b-b607-c181f7ccd3f0/resourceGroups/WimeaRG/providers/Microsoft.MachineLearningServices/workspaces/safari-ws?', 'type': 'Tracking'}, 'Studio': {'endpoint': 'https://ml.azure.com/runs/blue_kite_kdl776pn34?wsid=/subscriptions/573c33d5-dbc4-402b-b607-c181f7ccd3f0/resourcegroups/WimeaRG/workspaces/safari-ws&tid=57b80554-e78b-41ae-b593-003d7ba29cac', 'type': 'Studio'}}, 'status': 'Starting', 'creation_context': <azure.ai.ml.entities._system_data.SystemData object at 0x7fe695ed3be0>}, 'instance_id': '11d8b9f1-fe9d-4d5d-bad5-9338f43999ca', 'source': 'BUILDER', 'validate_required_input_not_provided': True, 'limits': None, 'identity': None, 'distribution': None, 'environment_variables': {}, 'environment': 'Yolov8-environment:1', 'resources': {'instance_count': 1, 'shm_size': '2g'}, 'queue_settings': None, 'swept': False})"
            ]
          },
          "execution_count": 2,
          "metadata": {},
          "output_type": "execute_result"
        }
      ],
      "source": [
        "from azure.ai.ml import command\n",
        "from azure.ai.ml import Input\n",
        "\n",
        "command_job = command(\n",
        "    inputs=dict(\n",
        "        data=Input(\n",
        "            type=\"uri_folder\",\n",
        "            path=\"azureml:sigatoka-damage-ds:1\",#Dataset path\n",
        "        ),\n",
        "         model_to_train=Input(\n",
        "            type=\"custom_model\",\n",
        "            path=\"./yolov8x-seg.pt\"\n",
        "        )\n",
        "    ),\n",
        "    command=\"\"\"\n",
        "    echo \"The data asset path is ${{ inputs.data }}\" &&\n",
        "    # Update custom.yaml to contain the correct path\n",
        "    sed -i \"s|path:.*$|path: ${{ inputs.data }}|\" custom.yaml &&\n",
        "    # Now custom.yaml contains the correct path so we can run the training\n",
        "    yolo segment train data=custom.yaml model=${{ inputs.model_to_train }} epochs=300 imgsz=640 batch=16 project=Mask name=experiment\n",
        "    \"\"\",\n",
        "    code=\"./src/\",\n",
        "    environment=\"Yolov8-environment:1\",\n",
        "    compute=\"MangoDamage-dl-gpu\", # change this line to match the name of your Compute\n",
        "    experiment_name=\"sigatoka\",\n",
        "    display_name=\"sigatoka\",\n",
        ")\n",
        "\n",
        "ml_client.create_or_update(command_job)\n"
      ]
    }
  ],
  "metadata": {
    "kernel_info": {
      "name": "python310-sdkv2"
    },
    "kernelspec": {
      "display_name": "Python 3.10 - SDK v2",
      "language": "python",
      "name": "python310-sdkv2"
    },
    "language_info": {
      "codemirror_mode": {
        "name": "ipython",
        "version": 3
      },
      "file_extension": ".py",
      "mimetype": "text/x-python",
      "name": "python",
      "nbconvert_exporter": "python",
      "pygments_lexer": "ipython3",
      "version": "3.10.11"
    },
    "microsoft": {
      "host": {
        "AzureML": {
          "notebookHasBeenCompleted": true
        }
      },
      "ms_spell_check": {
        "ms_spell_check_language": "en"
      }
    },
    "nteract": {
      "version": "nteract-front-end@1.0.0"
    }
  },
  "nbformat": 4,
  "nbformat_minor": 2
}
